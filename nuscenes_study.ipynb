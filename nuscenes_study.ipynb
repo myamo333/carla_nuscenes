{
 "cells": [
  {
   "cell_type": "code",
   "execution_count": 11,
   "id": "56166877",
   "metadata": {},
   "outputs": [],
   "source": [
    "# !pip install nuscenes-devkit==1.1.9 &> /dev/null  # Install nuScenes."
   ]
  },
  {
   "cell_type": "code",
   "execution_count": 23,
   "id": "7a779254",
   "metadata": {},
   "outputs": [
    {
     "name": "stdout",
     "output_type": "stream",
     "text": [
      "======\n",
      "Loading NuScenes tables for version v1.0-eval...\n",
      "0 category,\n",
      "0 attribute,\n",
      "0 visibility,\n",
      "0 instance,\n",
      "6 sensor,\n",
      "6 calibrated_sensor,\n",
      "1 ego_pose,\n",
      "1 log,\n",
      "1 scene,\n",
      "1 sample,\n",
      "370 sample_data,\n",
      "0 sample_annotation,\n",
      "1 map,\n",
      "Done loading in 0.003 seconds.\n",
      "======\n",
      "Reverse indexing ...\n",
      "Done reverse indexing in 0.0 seconds.\n",
      "======\n"
     ]
    }
   ],
   "source": [
    "%matplotlib inline\n",
    "from nuscenes.nuscenes import NuScenes\n",
    "\n",
    "nusc = NuScenes(version=\"v1.0-eval\", dataroot=\"./data/nuscenes_eval\" , verbose=True)"
   ]
  },
  {
   "cell_type": "code",
   "execution_count": 22,
   "id": "38532a24",
   "metadata": {},
   "outputs": [
    {
     "ename": "KeyError",
     "evalue": "'first_sample_token'",
     "output_type": "error",
     "traceback": [
      "\u001b[0;31m---------------------------------------------------------------------------\u001b[0m",
      "\u001b[0;31mKeyError\u001b[0m                                  Traceback (most recent call last)",
      "\u001b[0;32m/tmp/ipykernel_17493/1811087936.py\u001b[0m in \u001b[0;36m<module>\u001b[0;34m\u001b[0m\n\u001b[1;32m      1\u001b[0m \u001b[0;31m#データセット内に含まれる全シーンの一覧を取得する\u001b[0m\u001b[0;34m\u001b[0m\u001b[0;34m\u001b[0m\u001b[0m\n\u001b[0;32m----> 2\u001b[0;31m \u001b[0mnusc\u001b[0m\u001b[0;34m.\u001b[0m\u001b[0mlist_scenes\u001b[0m\u001b[0;34m(\u001b[0m\u001b[0;34m)\u001b[0m\u001b[0;34m\u001b[0m\u001b[0;34m\u001b[0m\u001b[0m\n\u001b[0m",
      "\u001b[0;32m~/anaconda3/lib/python3.9/site-packages/nuscenes/nuscenes.py\u001b[0m in \u001b[0;36mlist_scenes\u001b[0;34m(self)\u001b[0m\n\u001b[1;32m    511\u001b[0m \u001b[0;34m\u001b[0m\u001b[0m\n\u001b[1;32m    512\u001b[0m     \u001b[0;32mdef\u001b[0m \u001b[0mlist_sample\u001b[0m\u001b[0;34m(\u001b[0m\u001b[0mself\u001b[0m\u001b[0;34m,\u001b[0m \u001b[0msample_token\u001b[0m\u001b[0;34m:\u001b[0m \u001b[0mstr\u001b[0m\u001b[0;34m)\u001b[0m \u001b[0;34m->\u001b[0m \u001b[0;32mNone\u001b[0m\u001b[0;34m:\u001b[0m\u001b[0;34m\u001b[0m\u001b[0;34m\u001b[0m\u001b[0m\n\u001b[0;32m--> 513\u001b[0;31m         \u001b[0mself\u001b[0m\u001b[0;34m.\u001b[0m\u001b[0mexplorer\u001b[0m\u001b[0;34m.\u001b[0m\u001b[0mlist_sample\u001b[0m\u001b[0;34m(\u001b[0m\u001b[0msample_token\u001b[0m\u001b[0;34m)\u001b[0m\u001b[0;34m\u001b[0m\u001b[0;34m\u001b[0m\u001b[0m\n\u001b[0m\u001b[1;32m    514\u001b[0m \u001b[0;34m\u001b[0m\u001b[0m\n\u001b[1;32m    515\u001b[0m     def render_pointcloud_in_image(self, sample_token: str, dot_size: int = 5, pointsensor_channel: str = 'LIDAR_TOP',\n",
      "\u001b[0;32m~/anaconda3/lib/python3.9/site-packages/nuscenes/nuscenes.py\u001b[0m in \u001b[0;36mlist_scenes\u001b[0;34m(self)\u001b[0m\n\u001b[1;32m    804\u001b[0m                 self.nusc.scene]\n\u001b[1;32m    805\u001b[0m \u001b[0;34m\u001b[0m\u001b[0m\n\u001b[0;32m--> 806\u001b[0;31m         \u001b[0;32mfor\u001b[0m \u001b[0mstart_time\u001b[0m\u001b[0;34m,\u001b[0m \u001b[0mrecord\u001b[0m \u001b[0;32min\u001b[0m \u001b[0msorted\u001b[0m\u001b[0;34m(\u001b[0m\u001b[0mrecs\u001b[0m\u001b[0;34m)\u001b[0m\u001b[0;34m:\u001b[0m\u001b[0;34m\u001b[0m\u001b[0;34m\u001b[0m\u001b[0m\n\u001b[0m\u001b[1;32m    807\u001b[0m             \u001b[0mstart_time\u001b[0m \u001b[0;34m=\u001b[0m \u001b[0mself\u001b[0m\u001b[0;34m.\u001b[0m\u001b[0mnusc\u001b[0m\u001b[0;34m.\u001b[0m\u001b[0mget\u001b[0m\u001b[0;34m(\u001b[0m\u001b[0;34m'sample'\u001b[0m\u001b[0;34m,\u001b[0m \u001b[0mrecord\u001b[0m\u001b[0;34m[\u001b[0m\u001b[0;34m'first_sample_token'\u001b[0m\u001b[0;34m]\u001b[0m\u001b[0;34m)\u001b[0m\u001b[0;34m[\u001b[0m\u001b[0;34m'timestamp'\u001b[0m\u001b[0;34m]\u001b[0m \u001b[0;34m/\u001b[0m \u001b[0;36m1000000\u001b[0m\u001b[0;34m\u001b[0m\u001b[0;34m\u001b[0m\u001b[0m\n\u001b[1;32m    808\u001b[0m             \u001b[0mlength_time\u001b[0m \u001b[0;34m=\u001b[0m \u001b[0mself\u001b[0m\u001b[0;34m.\u001b[0m\u001b[0mnusc\u001b[0m\u001b[0;34m.\u001b[0m\u001b[0mget\u001b[0m\u001b[0;34m(\u001b[0m\u001b[0;34m'sample'\u001b[0m\u001b[0;34m,\u001b[0m \u001b[0mrecord\u001b[0m\u001b[0;34m[\u001b[0m\u001b[0;34m'last_sample_token'\u001b[0m\u001b[0;34m]\u001b[0m\u001b[0;34m)\u001b[0m\u001b[0;34m[\u001b[0m\u001b[0;34m'timestamp'\u001b[0m\u001b[0;34m]\u001b[0m \u001b[0;34m/\u001b[0m \u001b[0;36m1000000\u001b[0m \u001b[0;34m-\u001b[0m \u001b[0mstart_time\u001b[0m\u001b[0;34m\u001b[0m\u001b[0;34m\u001b[0m\u001b[0m\n",
      "\u001b[0;32m~/anaconda3/lib/python3.9/site-packages/nuscenes/nuscenes.py\u001b[0m in \u001b[0;36m<listcomp>\u001b[0;34m(.0)\u001b[0m\n\u001b[1;32m    804\u001b[0m                 self.nusc.scene]\n\u001b[1;32m    805\u001b[0m \u001b[0;34m\u001b[0m\u001b[0m\n\u001b[0;32m--> 806\u001b[0;31m         \u001b[0;32mfor\u001b[0m \u001b[0mstart_time\u001b[0m\u001b[0;34m,\u001b[0m \u001b[0mrecord\u001b[0m \u001b[0;32min\u001b[0m \u001b[0msorted\u001b[0m\u001b[0;34m(\u001b[0m\u001b[0mrecs\u001b[0m\u001b[0;34m)\u001b[0m\u001b[0;34m:\u001b[0m\u001b[0;34m\u001b[0m\u001b[0;34m\u001b[0m\u001b[0m\n\u001b[0m\u001b[1;32m    807\u001b[0m             \u001b[0mstart_time\u001b[0m \u001b[0;34m=\u001b[0m \u001b[0mself\u001b[0m\u001b[0;34m.\u001b[0m\u001b[0mnusc\u001b[0m\u001b[0;34m.\u001b[0m\u001b[0mget\u001b[0m\u001b[0;34m(\u001b[0m\u001b[0;34m'sample'\u001b[0m\u001b[0;34m,\u001b[0m \u001b[0mrecord\u001b[0m\u001b[0;34m[\u001b[0m\u001b[0;34m'first_sample_token'\u001b[0m\u001b[0;34m]\u001b[0m\u001b[0;34m)\u001b[0m\u001b[0;34m[\u001b[0m\u001b[0;34m'timestamp'\u001b[0m\u001b[0;34m]\u001b[0m \u001b[0;34m/\u001b[0m \u001b[0;36m1000000\u001b[0m\u001b[0;34m\u001b[0m\u001b[0;34m\u001b[0m\u001b[0m\n\u001b[1;32m    808\u001b[0m             \u001b[0mlength_time\u001b[0m \u001b[0;34m=\u001b[0m \u001b[0mself\u001b[0m\u001b[0;34m.\u001b[0m\u001b[0mnusc\u001b[0m\u001b[0;34m.\u001b[0m\u001b[0mget\u001b[0m\u001b[0;34m(\u001b[0m\u001b[0;34m'sample'\u001b[0m\u001b[0;34m,\u001b[0m \u001b[0mrecord\u001b[0m\u001b[0;34m[\u001b[0m\u001b[0;34m'last_sample_token'\u001b[0m\u001b[0;34m]\u001b[0m\u001b[0;34m)\u001b[0m\u001b[0;34m[\u001b[0m\u001b[0;34m'timestamp'\u001b[0m\u001b[0;34m]\u001b[0m \u001b[0;34m/\u001b[0m \u001b[0;36m1000000\u001b[0m \u001b[0;34m-\u001b[0m \u001b[0mstart_time\u001b[0m\u001b[0;34m\u001b[0m\u001b[0;34m\u001b[0m\u001b[0m\n",
      "\u001b[0;31mKeyError\u001b[0m: 'first_sample_token'"
     ]
    }
   ],
   "source": [
    "#データセット内に含まれる全シーンの一覧を取得する\n",
    "nusc.list_scenes()"
   ]
  },
  {
   "cell_type": "code",
   "execution_count": 24,
   "id": "678e7b23",
   "metadata": {},
   "outputs": [
    {
     "name": "stdout",
     "output_type": "stream",
     "text": [
      "{'token': 'cc8c0bf57f984915a77078b10eb33198', 'log_token': '7e25a2c8ea1f41c5b0da1e69ecfa71a2', 'nbr_samples': 39, 'first_sample_token': 'ca9a282c9e77460f8360f564131a8af5', 'last_sample_token': 'ed5fc18c31904f96a8f0dbb99ff069c0', 'name': 'scene-0061', 'description': 'Parked truck, construction, intersection, turn left, following a van'}\n",
      "ca9a282c9e77460f8360f564131a8af5\n"
     ]
    }
   ],
   "source": [
    "# 最初のシーンを取得\n",
    "scene = nusc.scene[0]\n",
    "print(scene)\n",
    "\n",
    "# 最初の sample_token を取得\n",
    "first_sample_token = scene['first_sample_token']\n",
    "print(first_sample_token)\n",
    "\n",
    "# sample を可視化（画像 or LiDAR にバウンディングボックス付き）\n",
    "# nusc.render_sample(first_sample_token)\n"
   ]
  },
  {
   "cell_type": "code",
   "execution_count": 26,
   "id": "610b317d",
   "metadata": {},
   "outputs": [
    {
     "name": "stdout",
     "output_type": "stream",
     "text": [
      "{'token': 'ca9a282c9e77460f8360f564131a8af5', 'timestamp': 1532402927647951, 'prev': '', 'next': '39586f9d59004284a7114a68825e8eec', 'scene_token': 'cc8c0bf57f984915a77078b10eb33198', 'data': {'RADAR_FRONT': '37091c75b9704e0daa829ba56dfa0906', 'RADAR_FRONT_LEFT': '11946c1461d14016a322916157da3c7d', 'RADAR_FRONT_RIGHT': '491209956ee3435a9ec173dad3aaf58b', 'RADAR_BACK_LEFT': '312aa38d0e3e4f01b3124c523e6f9776', 'RADAR_BACK_RIGHT': '07b30d5eb6104e79be58eadf94382bc1', 'LIDAR_TOP': '9d9bf11fb0e144c8b446d54a8a00184f', 'CAM_FRONT': 'e3d495d4ac534d54b321f50006683844', 'CAM_FRONT_RIGHT': 'aac7867ebf4f446395d29fbd60b63b3b', 'CAM_BACK_RIGHT': '79dbb4460a6b40f49f9c150cb118247e', 'CAM_BACK': '03bea5763f0f4722933508d5999c5fd8', 'CAM_BACK_LEFT': '43893a033f9c46d4a51b5e08a67a1eb7', 'CAM_FRONT_LEFT': 'fe5422747a7d4268a4b07fc396707b23'}, 'anns': ['ef63a697930c4b20a6b9791f423351da', '6b89da9bf1f84fd6a5fbe1c3b236f809', '924ee6ac1fed440a9d9e3720aac635a0', '91e3608f55174a319246f361690906ba', 'cd051723ed9c40f692b9266359f547af', '36d52dfedd764b27863375543c965376', '70af124fceeb433ea73a79537e4bea9e', '63b89fe17f3e41ecbe28337e0e35db8e', 'e4a3582721c34f528e3367f0bda9485d', 'fcb2332977ed4203aa4b7e04a538e309', 'a0cac1c12246451684116067ae2611f6', '02248ff567e3497c957c369dc9a1bd5c', '9db977e264964c2887db1e37113cddaa', 'ca9c5dd6cf374aa980fdd81022f016fd', '179b8b54ee74425893387ebc09ee133d', '5b990ac640bf498ca7fd55eaf85d3e12', '16140fbf143d4e26a4a7613cbd3aa0e8', '54939f11a73d4398b14aeef500bf0c23', '83d881a6b3d94ef3a3bc3b585cc514f8', '74986f1604f047b6925d409915265bf7', 'e86330c5538c4858b8d3ffe874556cc5', 'a7bd5bb89e27455bbb3dba89a576b6a1', 'fbd9d8c939b24f0eb6496243a41e8c41', '198023a1fb5343a5b6fad033ab8b7057', 'ffeafb90ecd5429cba23d0be9a5b54ee', 'cc636a58e27e446cbdd030c14f3718fd', '076a7e3ec6244d3b84e7df5ebcbac637', '0603fbaef1234c6c86424b163d2e3141', 'd76bd5dcc62f4c57b9cece1c7bcfabc5', '5acb6c71bcd64aa188804411b28c4c8f', '49b74a5f193c4759b203123b58ca176d', '77519174b48f4853a895f58bb8f98661', 'c5e9455e98bb42c0af7d1990db1df0c9', 'fcc5b4b5c4724179ab24962a39ca6d65', '791d1ca7e228433fa50b01778c32449a', '316d20eb238c43ef9ee195642dd6e3fe', 'cda0a9085607438c9b1ea87f4360dd64', 'e865152aaa194f22b97ad0078c012b21', '7962506dbc24423aa540a5e4c7083dad', '29cca6a580924b72a90b9dd6e7710d3e', 'a6f7d4bb60374f868144c5ba4431bf4c', 'f1ae3f713ba946069fa084a6b8626fbf', 'd7af8ede316546f68d4ab4f3dbf03f88', '91cb8f15ed4444e99470d43515e50c1d', 'bc638d33e89848f58c0b3ccf3900c8bb', '26fb370c13f844de9d1830f6176ebab6', '7e66fdf908d84237943c833e6c1b317a', '67c5dbb3ddcc4aff8ec5140930723c37', 'eaf2532c820740ae905bb7ed78fb1037', '3e2d17fa9aa5484d9cabc1dfca532193', 'de6bd5ffbed24aa59c8891f8d9c32c44', '9d51d699f635478fbbcd82a70396dd62', 'b7cbc6d0e80e4dfda7164871ece6cb71', '563a3f547bd64a2f9969278c5ef447fd', 'df8917888b81424f8c0670939e61d885', 'bb3ef5ced8854640910132b11b597348', 'a522ce1d7f6545d7955779f25d01783b', '1fafb2468af5481ca9967407af219c32', '05de82bdb8484623906bb9d97ae87542', 'bfedb0d85e164b7697d1e72dd971fb72', 'ca0f85b4f0d44beb9b7ff87b1ab37ff5', 'bca4bbfdef3d4de980842f28be80b3ca', 'a834fb0389a8453c810c3330e3503e16', '6c804cb7d78943b195045082c5c2d7fa', 'adf1594def9e4722b952fea33b307937', '49f76277d07541c5a584aa14c9d28754', '15a3b4d60b514db5a3468e2aef72a90c', '18cc2837f2b9457c80af0761a0b83ccc', '2bfcc693ae9946daba1d9f2724478fd4']}\n"
     ]
    }
   ],
   "source": [
    "my_sample = nusc.get('sample', first_sample_token)\n",
    "print(my_sample)"
   ]
  },
  {
   "cell_type": "code",
   "execution_count": null,
   "id": "74df248f",
   "metadata": {},
   "outputs": [
    {
     "name": "stdout",
     "output_type": "stream",
     "text": [
      "Sample: ca9a282c9e77460f8360f564131a8af5\n",
      "\n",
      "sample_data_token: 37091c75b9704e0daa829ba56dfa0906, mod: radar, channel: RADAR_FRONT\n",
      "sample_data_token: 11946c1461d14016a322916157da3c7d, mod: radar, channel: RADAR_FRONT_LEFT\n",
      "sample_data_token: 491209956ee3435a9ec173dad3aaf58b, mod: radar, channel: RADAR_FRONT_RIGHT\n",
      "sample_data_token: 312aa38d0e3e4f01b3124c523e6f9776, mod: radar, channel: RADAR_BACK_LEFT\n",
      "sample_data_token: 07b30d5eb6104e79be58eadf94382bc1, mod: radar, channel: RADAR_BACK_RIGHT\n",
      "sample_data_token: 9d9bf11fb0e144c8b446d54a8a00184f, mod: lidar, channel: LIDAR_TOP\n",
      "sample_data_token: e3d495d4ac534d54b321f50006683844, mod: camera, channel: CAM_FRONT\n",
      "sample_data_token: aac7867ebf4f446395d29fbd60b63b3b, mod: camera, channel: CAM_FRONT_RIGHT\n",
      "sample_data_token: 79dbb4460a6b40f49f9c150cb118247e, mod: camera, channel: CAM_BACK_RIGHT\n",
      "sample_data_token: 03bea5763f0f4722933508d5999c5fd8, mod: camera, channel: CAM_BACK\n",
      "sample_data_token: 43893a033f9c46d4a51b5e08a67a1eb7, mod: camera, channel: CAM_BACK_LEFT\n",
      "sample_data_token: fe5422747a7d4268a4b07fc396707b23, mod: camera, channel: CAM_FRONT_LEFT\n",
      "\n",
      "sample_annotation_token: ef63a697930c4b20a6b9791f423351da, category: human.pedestrian.adult\n",
      "sample_annotation_token: 6b89da9bf1f84fd6a5fbe1c3b236f809, category: human.pedestrian.adult\n",
      "sample_annotation_token: 924ee6ac1fed440a9d9e3720aac635a0, category: vehicle.car\n",
      "sample_annotation_token: 91e3608f55174a319246f361690906ba, category: human.pedestrian.adult\n",
      "sample_annotation_token: cd051723ed9c40f692b9266359f547af, category: movable_object.trafficcone\n",
      "sample_annotation_token: 36d52dfedd764b27863375543c965376, category: vehicle.bicycle\n",
      "sample_annotation_token: 70af124fceeb433ea73a79537e4bea9e, category: human.pedestrian.adult\n",
      "sample_annotation_token: 63b89fe17f3e41ecbe28337e0e35db8e, category: vehicle.car\n",
      "sample_annotation_token: e4a3582721c34f528e3367f0bda9485d, category: human.pedestrian.adult\n",
      "sample_annotation_token: fcb2332977ed4203aa4b7e04a538e309, category: movable_object.barrier\n",
      "sample_annotation_token: a0cac1c12246451684116067ae2611f6, category: movable_object.barrier\n",
      "sample_annotation_token: 02248ff567e3497c957c369dc9a1bd5c, category: human.pedestrian.adult\n",
      "sample_annotation_token: 9db977e264964c2887db1e37113cddaa, category: human.pedestrian.adult\n",
      "sample_annotation_token: ca9c5dd6cf374aa980fdd81022f016fd, category: human.pedestrian.adult\n",
      "sample_annotation_token: 179b8b54ee74425893387ebc09ee133d, category: human.pedestrian.adult\n",
      "sample_annotation_token: 5b990ac640bf498ca7fd55eaf85d3e12, category: movable_object.barrier\n",
      "sample_annotation_token: 16140fbf143d4e26a4a7613cbd3aa0e8, category: vehicle.car\n",
      "sample_annotation_token: 54939f11a73d4398b14aeef500bf0c23, category: human.pedestrian.adult\n",
      "sample_annotation_token: 83d881a6b3d94ef3a3bc3b585cc514f8, category: vehicle.truck\n",
      "sample_annotation_token: 74986f1604f047b6925d409915265bf7, category: vehicle.car\n",
      "sample_annotation_token: e86330c5538c4858b8d3ffe874556cc5, category: human.pedestrian.adult\n",
      "sample_annotation_token: a7bd5bb89e27455bbb3dba89a576b6a1, category: movable_object.barrier\n",
      "sample_annotation_token: fbd9d8c939b24f0eb6496243a41e8c41, category: movable_object.barrier\n",
      "sample_annotation_token: 198023a1fb5343a5b6fad033ab8b7057, category: movable_object.barrier\n",
      "sample_annotation_token: ffeafb90ecd5429cba23d0be9a5b54ee, category: movable_object.trafficcone\n",
      "sample_annotation_token: cc636a58e27e446cbdd030c14f3718fd, category: movable_object.barrier\n",
      "sample_annotation_token: 076a7e3ec6244d3b84e7df5ebcbac637, category: vehicle.bus.rigid\n",
      "sample_annotation_token: 0603fbaef1234c6c86424b163d2e3141, category: human.pedestrian.adult\n",
      "sample_annotation_token: d76bd5dcc62f4c57b9cece1c7bcfabc5, category: human.pedestrian.adult\n",
      "sample_annotation_token: 5acb6c71bcd64aa188804411b28c4c8f, category: movable_object.barrier\n",
      "sample_annotation_token: 49b74a5f193c4759b203123b58ca176d, category: human.pedestrian.adult\n",
      "sample_annotation_token: 77519174b48f4853a895f58bb8f98661, category: human.pedestrian.adult\n",
      "sample_annotation_token: c5e9455e98bb42c0af7d1990db1df0c9, category: movable_object.barrier\n",
      "sample_annotation_token: fcc5b4b5c4724179ab24962a39ca6d65, category: human.pedestrian.adult\n",
      "sample_annotation_token: 791d1ca7e228433fa50b01778c32449a, category: human.pedestrian.adult\n",
      "sample_annotation_token: 316d20eb238c43ef9ee195642dd6e3fe, category: movable_object.barrier\n",
      "sample_annotation_token: cda0a9085607438c9b1ea87f4360dd64, category: vehicle.car\n",
      "sample_annotation_token: e865152aaa194f22b97ad0078c012b21, category: movable_object.barrier\n",
      "sample_annotation_token: 7962506dbc24423aa540a5e4c7083dad, category: movable_object.barrier\n",
      "sample_annotation_token: 29cca6a580924b72a90b9dd6e7710d3e, category: human.pedestrian.adult\n",
      "sample_annotation_token: a6f7d4bb60374f868144c5ba4431bf4c, category: vehicle.car\n",
      "sample_annotation_token: f1ae3f713ba946069fa084a6b8626fbf, category: movable_object.barrier\n",
      "sample_annotation_token: d7af8ede316546f68d4ab4f3dbf03f88, category: movable_object.barrier\n",
      "sample_annotation_token: 91cb8f15ed4444e99470d43515e50c1d, category: vehicle.construction\n",
      "sample_annotation_token: bc638d33e89848f58c0b3ccf3900c8bb, category: movable_object.barrier\n",
      "sample_annotation_token: 26fb370c13f844de9d1830f6176ebab6, category: vehicle.car\n",
      "sample_annotation_token: 7e66fdf908d84237943c833e6c1b317a, category: human.pedestrian.adult\n",
      "sample_annotation_token: 67c5dbb3ddcc4aff8ec5140930723c37, category: human.pedestrian.adult\n",
      "sample_annotation_token: eaf2532c820740ae905bb7ed78fb1037, category: human.pedestrian.adult\n",
      "sample_annotation_token: 3e2d17fa9aa5484d9cabc1dfca532193, category: movable_object.trafficcone\n",
      "sample_annotation_token: de6bd5ffbed24aa59c8891f8d9c32c44, category: human.pedestrian.adult\n",
      "sample_annotation_token: 9d51d699f635478fbbcd82a70396dd62, category: human.pedestrian.adult\n",
      "sample_annotation_token: b7cbc6d0e80e4dfda7164871ece6cb71, category: vehicle.truck\n",
      "sample_annotation_token: 563a3f547bd64a2f9969278c5ef447fd, category: human.pedestrian.adult\n",
      "sample_annotation_token: df8917888b81424f8c0670939e61d885, category: human.pedestrian.adult\n",
      "sample_annotation_token: bb3ef5ced8854640910132b11b597348, category: human.pedestrian.adult\n",
      "sample_annotation_token: a522ce1d7f6545d7955779f25d01783b, category: human.pedestrian.adult\n",
      "sample_annotation_token: 1fafb2468af5481ca9967407af219c32, category: human.pedestrian.adult\n",
      "sample_annotation_token: 05de82bdb8484623906bb9d97ae87542, category: human.pedestrian.adult\n",
      "sample_annotation_token: bfedb0d85e164b7697d1e72dd971fb72, category: movable_object.pushable_pullable\n",
      "sample_annotation_token: ca0f85b4f0d44beb9b7ff87b1ab37ff5, category: movable_object.barrier\n",
      "sample_annotation_token: bca4bbfdef3d4de980842f28be80b3ca, category: movable_object.barrier\n",
      "sample_annotation_token: a834fb0389a8453c810c3330e3503e16, category: human.pedestrian.adult\n",
      "sample_annotation_token: 6c804cb7d78943b195045082c5c2d7fa, category: movable_object.barrier\n",
      "sample_annotation_token: adf1594def9e4722b952fea33b307937, category: movable_object.barrier\n",
      "sample_annotation_token: 49f76277d07541c5a584aa14c9d28754, category: vehicle.car\n",
      "sample_annotation_token: 15a3b4d60b514db5a3468e2aef72a90c, category: movable_object.barrier\n",
      "sample_annotation_token: 18cc2837f2b9457c80af0761a0b83ccc, category: movable_object.barrier\n",
      "sample_annotation_token: 2bfcc693ae9946daba1d9f2724478fd4, category: movable_object.barrier\n"
     ]
    }
   ],
   "source": [
    "# 指定した サンプル（1フレーム） に含まれる 全てのセンサーデータ（sample_data） を一覧表示する\n",
    "# どのセンサで撮像されたものか、どういったアノテーション情報が含まれているか\n",
    "nusc.list_sample(my_sample['token'])"
   ]
  }
 ],
 "metadata": {
  "kernelspec": {
   "display_name": "base",
   "language": "python",
   "name": "python3"
  },
  "language_info": {
   "codemirror_mode": {
    "name": "ipython",
    "version": 3
   },
   "file_extension": ".py",
   "mimetype": "text/x-python",
   "name": "python",
   "nbconvert_exporter": "python",
   "pygments_lexer": "ipython3",
   "version": "3.9.7"
  }
 },
 "nbformat": 4,
 "nbformat_minor": 5
}
